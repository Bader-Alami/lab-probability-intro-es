{
 "cells": [
  {
   "cell_type": "markdown",
   "metadata": {},
   "source": [
    "# Probability"
   ]
  },
  {
   "cell_type": "markdown",
   "metadata": {},
   "source": [
    "## Reto 1\n",
    "Hay una caja con 10 bolas blancas, 12 bolas rojas y 8 bolas negras. Calcula la probabilidad de:\n",
    "* Sacar una bola blanca.\n",
    "* Sacar una bola blanca en la primera extracción y una bola negra en la segunda extracción sin reemplazar la primera.\n",
    "* Sacar una bola blanca en la primera extracción y una bola negra en la segunda extracción reemplazando la primera.\n",
    "* Sacar 3 bolas y que sean todas de diferentes colores."
   ]
  },
  {
   "cell_type": "code",
   "execution_count": 5,
   "metadata": {},
   "outputs": [
    {
     "ename": "NameError",
     "evalue": "name 'P' is not defined",
     "output_type": "error",
     "traceback": [
      "\u001b[1;31m---------------------------------------------------------------------------\u001b[0m",
      "\u001b[1;31mNameError\u001b[0m                                 Traceback (most recent call last)",
      "\u001b[1;32m~\\AppData\\Local\\Temp\\ipykernel_15624\\3377284879.py\u001b[0m in \u001b[0;36m<module>\u001b[1;34m\u001b[0m\n\u001b[0;32m      3\u001b[0m \u001b[1;31m#total = 30\u001b[0m\u001b[1;33m\u001b[0m\u001b[1;33m\u001b[0m\u001b[0m\n\u001b[0;32m      4\u001b[0m \u001b[1;33m\u001b[0m\u001b[0m\n\u001b[1;32m----> 5\u001b[1;33m \u001b[0mP\u001b[0m\u001b[1;33m(\u001b[0m\u001b[0mblanca\u001b[0m\u001b[1;33m)\u001b[0m \u001b[1;33m==\u001b[0m \u001b[1;36m10\u001b[0m\u001b[1;33m/\u001b[0m\u001b[1;36m30\u001b[0m\u001b[1;33m\u001b[0m\u001b[1;33m\u001b[0m\u001b[0m\n\u001b[0m",
      "\u001b[1;31mNameError\u001b[0m: name 'P' is not defined"
     ]
    }
   ],
   "source": [
    "# YOUR CODE HERE\n",
    "#10 blancas, 12 rojas, 8 negras,\n",
    "#total = 30\n",
    "\n",
    "P(blanca) = 10/30\n",
    "\n",
    "\n",
    "#----------\n",
    "\n",
    "sacamos una bola y después otra, sin devolver la primera\n",
    "P(blanca) = 10/30\n",
    "\n",
    "al sacar una blanca, \n",
    "9 blancas, 12 rojas, 8 negras.\n",
    "P(negra) = 8/29\n",
    "\n",
    "10/30 * 8/29 = 0.092\n",
    "\n",
    "#----------\n",
    "\n",
    "10/30 * 8/30 = 0.089\n",
    "\n",
    "#-----------\n",
    "\n",
    "P(sacar 1 blanca, 1 roja, 1 negra, sin reemplazo y en este orden)\n",
    "10/30 * 12/29 * 8/28\n",
    "\n",
    "P(sacar 1 roja, 1 blanca, 1 negra, sin reemplazo y en este orden)\n",
    "12/30 * 10/29 * 8/28 \n",
    "\n",
    "6 permutaciones\n",
    "\n",
    "3! = 3*2*1=6\n",
    "\n",
    "(12*10*8) / (30*29*28) "
   ]
  },
  {
   "cell_type": "code",
   "execution_count": 35,
   "metadata": {},
   "outputs": [
    {
     "data": {
      "text/plain": [
       "0.3333333333333333"
      ]
     },
     "execution_count": 35,
     "metadata": {},
     "output_type": "execute_result"
    }
   ],
   "source": [
    "#1 \n",
    "10/30"
   ]
  },
  {
   "cell_type": "code",
   "execution_count": 37,
   "metadata": {},
   "outputs": [
    {
     "data": {
      "text/plain": [
       "0.09195402298850575"
      ]
     },
     "execution_count": 37,
     "metadata": {},
     "output_type": "execute_result"
    }
   ],
   "source": [
    "#2\n",
    "10/30 * 8/29"
   ]
  },
  {
   "cell_type": "code",
   "execution_count": 39,
   "metadata": {},
   "outputs": [
    {
     "data": {
      "text/plain": [
       "0.08888888888888888"
      ]
     },
     "execution_count": 39,
     "metadata": {},
     "output_type": "execute_result"
    }
   ],
   "source": [
    "#3\n",
    "10/30 * 8/30"
   ]
  },
  {
   "cell_type": "code",
   "execution_count": 41,
   "metadata": {},
   "outputs": [
    {
     "data": {
      "text/plain": [
       "0.23645320197044334"
      ]
     },
     "execution_count": 41,
     "metadata": {},
     "output_type": "execute_result"
    }
   ],
   "source": [
    "#4 \n",
    "6 * ((12*10*8) / (30*29*28))"
   ]
  },
  {
   "cell_type": "markdown",
   "metadata": {},
   "source": [
    "## Reto 2\n",
    "\n",
    "Quieres ir de picnic el sábado. Odias la lluvia y quieres planificar tu fin de semana. Para ayudarte a tomar una decisión, recopilas los siguientes datos sobre los días lluviosos:\n",
    "\n",
    "* El 40% de todos los días están nublados.\n",
    "* Aproximadamente el 50% de los días nublados son lluviosos.\n",
    "* Aproximadamente el 20% de los días no nublados son lluviosos.\n",
    "\n",
    "¿Cuál es la probabilidad de que llueva el próximo sábado?"
   ]
  },
  {
   "cell_type": "code",
   "execution_count": null,
   "metadata": {},
   "outputs": [],
   "source": [
    "# YOUR CODE HERE\n",
    "P(nublado) = 0.4\n",
    "p(no nublado) = 0.6 = 1 - P(nublado)\n",
    "\n",
    "P(lluvioso | nublado) = 0.5\n",
    "P(lluvioso | no nublado) = 0.2\n",
    "\n",
    "P(lluvioso) = 0.4*0.5 + 0.6*0.2 \n",
    "P(lluvioso) = P(nublado) * P(lluvioso | nublado) + p(no nublado)*P(lluvioso | no nublado)"
   ]
  },
  {
   "cell_type": "code",
   "execution_count": 45,
   "metadata": {},
   "outputs": [
    {
     "data": {
      "text/plain": [
       "0.32"
      ]
     },
     "execution_count": 45,
     "metadata": {},
     "output_type": "execute_result"
    }
   ],
   "source": [
    "#Resultado \n",
    "0.4*0.5 + 0.6*0.2"
   ]
  },
  {
   "cell_type": "markdown",
   "metadata": {},
   "source": [
    "## Reto 3\n",
    "\n",
    "A y B son eventos de una probabilidad tal que \\(P(A) = 0.3\\), \\(P(B) = 0.6\\) y \\(P(A \\cap B) = 0.1\\)\n",
    "\n",
    "¿Cuáles de las siguientes afirmaciones son verdaderas?\n",
    "**SUGERENCIA: dibuja un gran diagrama de Venn a tu lado**\n",
    "* \\(P(\\overline{A}) = 0.7\\)\n",
    "* \\(P(A \\cup B) = 0.6\\)\n",
    "* \\(P(A \\cap \\overline{B}) = 0.2\\)\n",
    "* \\(P(A \\cup \\overline{A}) = 1\\)  \n",
    "* \\(P(A \\cap (B \\cup \\overline{B})) = 0.4\\)\n",
    "* \\(P(\\overline{A} \\cap \\overline{B}) = 0.3\\)\n",
    "* \\(P(\\overline{A \\cap B}) = 0.9\\)"
   ]
  },
  {
   "cell_type": "code",
   "execution_count": null,
   "metadata": {},
   "outputs": [],
   "source": [
    "# YOUR CODE HERE\n",
    "\n",
    "#1. Verdadero\n",
    "1 - P(A)\n",
    "1 - 0.3 = 0.7 \n",
    "\n",
    "#2. Falso\n",
    "p(A) + P(B) - P(A cap B)\n",
    "0.3 + 0.6 - 0.1 = 0.8 \n",
    "\n",
    "#3. Verdadero\n",
    "P(A) - P(A cap B)\n",
    "0.3 - 0.1 = 0.2 \n",
    "\n",
    "#4. Verdadero\n",
    "La unión de un evento y su complemento siempre es 1.  \n",
    "\n",
    "#5. Falso\n",
    "B cup overline B es el espacio muestral, entonces es igual a P(A) = 0.3 \n",
    "\n",
    "#6. Falso\n",
    "1 - P(A cap B) == 1 - 0.8 = 0.2\n",
    "\n",
    "#7. Verdadero \n",
    "1 - P(A cap B) (0.1) = 0.9\n"
   ]
  },
  {
   "cell_type": "markdown",
   "metadata": {},
   "source": [
    "###### Reto 4\n",
    "\n",
    "* Si alguien viaja a China, la probabilidad de contraer Covid es del 1%\n",
    "* Si alguien viaja a Italia, la probabilidad de contraer Covid es del 20%\n",
    "\n",
    "Lanzo un dado con números 1, 2, 3, 4, 5, 6:\n",
    "* Si sale 1: Vuelo a Italia\n",
    "* Si no sale 1: Vuelo a China\n",
    "\n",
    "Durante mi viaje, contraje Covid. ¿Cuál es la probabilidad de que haya volado a China?"
   ]
  },
  {
   "cell_type": "code",
   "execution_count": null,
   "metadata": {},
   "outputs": [],
   "source": [
    "# YOUR CODE HERE\n",
    "P(Covid | China) = 0.01\n",
    "P(Covid | Italia) = 0.2\n",
    "\n",
    "P(Italia) = 1/6\n",
    "P(China) = 5/6\n",
    "\n",
    "Italia = China\n",
    "\n",
    "P(covid) = P(China) * P(covid | China) + P(Italia) * P(Covid | Italia) = \n",
    "= 5/6 * 0.01 + 1/6 * 0.2 = 0.0416666\n",
    "\n",
    "P(China | covid) = P(covid | China)* P(china) / P(covid) = 0.01*(5/6) / 0.034166666666666665 = 0.2"
   ]
  },
  {
   "cell_type": "code",
   "execution_count": 55,
   "metadata": {},
   "outputs": [
    {
     "data": {
      "text/plain": [
       "0.041666666666666664"
      ]
     },
     "execution_count": 55,
     "metadata": {},
     "output_type": "execute_result"
    }
   ],
   "source": [
    "5/6 * 0.01 + 1/6 * 0.20"
   ]
  },
  {
   "cell_type": "code",
   "execution_count": 57,
   "metadata": {},
   "outputs": [
    {
     "data": {
      "text/plain": [
       "0.2"
      ]
     },
     "execution_count": 57,
     "metadata": {},
     "output_type": "execute_result"
    }
   ],
   "source": [
    "0.01*(5/6) / 0.041666666666666664"
   ]
  },
  {
   "cell_type": "markdown",
   "metadata": {},
   "source": [
    "## BONUS\n",
    "\n",
    "Lanzas 2 dados. ¿Cuál es la probabilidad de que la suma de los números sea 7? ¿Y 8? ¿Y 9? Luego simula 10000 veces y dibuja un gráfico de conteo.\n",
    "\n",
    "tu explicación aquí"
   ]
  },
  {
   "cell_type": "code",
   "execution_count": 77,
   "metadata": {},
   "outputs": [
    {
     "name": "stdout",
     "output_type": "stream",
     "text": [
      "{2: 0.0289, 3: 0.0547, 4: 0.0806, 5: 0.1161, 6: 0.1438, 7: 0.1675, 8: 0.139, 9: 0.1045, 10: 0.0815, 11: 0.0561, 12: 0.0273}\n"
     ]
    }
   ],
   "source": [
    "# YOUR CODE HERE\n",
    "import random\n",
    "\n",
    "def lanzar_dado():\n",
    "    return random.randint(1, 6)\n",
    "    \n",
    "suma = {resultado : 0 for resultado in range(2, 13)}\n",
    "\n",
    "num_lanzamientos = 10000\n",
    "\n",
    "for _ in range(num_lanzamientos):\n",
    "    dado1 = lanzar_dado()\n",
    "    dado2 = lanzar_dado()\n",
    "    suma_dados = dado1 + dado2\n",
    "    suma[suma_dados] += 1\n",
    "\n",
    "# normalizar\n",
    "for resultado in range(2, 13):\n",
    "    suma[resultado] /= num_lanzamientos\n",
    "\n",
    "\n",
    "print(suma)"
   ]
  },
  {
   "cell_type": "code",
   "execution_count": 83,
   "metadata": {},
   "outputs": [
    {
     "data": {
      "image/png": "[encoded data removed]",
      "text/plain": [
       "<Figure size 640x480 with 1 Axes>"
      ]
     },
     "metadata": {},
     "output_type": "display_data"
    }
   ],
   "source": [
    "import matplotlib.pyplot as plt\n",
    "\n",
    "plt.bar(x=suma.keys(), height = suma.values())\n",
    "plt.show()"
   ]
  }
 ],
 "metadata": {
  "kernelspec": {
   "display_name": "Python 3 (ipykernel)",
   "language": "python",
   "name": "python3"
  },
  "language_info": {
   "codemirror_mode": {
    "name": "ipython",
    "version": 3
   },
   "file_extension": ".py",
   "mimetype": "text/x-python",
   "name": "python",
   "nbconvert_exporter": "python",
   "pygments_lexer": "ipython3",
   "version": "3.10.14"
  },
  "toc": {
   "base_numbering": 1,
   "nav_menu": {},
   "number_sections": false,
   "sideBar": true,
   "skip_h1_title": false,
   "title_cell": "Table of Contents",
   "title_sidebar": "Contents",
   "toc_cell": false,
   "toc_position": {
    "height": "calc(100% - 180px)",
    "left": "10px",
    "top": "150px",
    "width": "296.475px"
   },
   "toc_section_display": true,
   "toc_window_display": false
  },
  "varInspector": {
   "cols": {
    "lenName": 16,
    "lenType": 16,
    "lenVar": 40
   },
   "kernels_config": {
    "python": {
     "delete_cmd_postfix": "",
     "delete_cmd_prefix": "del ",
     "library": "var_list.py",
     "varRefreshCmd": "print(var_dic_list())"
    },
    "r": {
     "delete_cmd_postfix": ") ",
     "delete_cmd_prefix": "rm(",
     "library": "var_list.r",
     "varRefreshCmd": "cat(var_dic_list()) "
    }
   },
   "types_to_exclude": [
    "module",
    "function",
    "builtin_function_or_method",
    "instance",
    "_Feature"
   ],
   "window_display": false
  }
 },
 "nbformat": 4,
 "nbformat_minor": 4
}
